{
 "cells": [
  {
   "cell_type": "code",
   "execution_count": 2,
   "id": "ce79473c-f22f-43df-a73b-f642b699dc81",
   "metadata": {},
   "outputs": [
    {
     "name": "stdout",
     "output_type": "stream",
     "text": [
      "Requirement already satisfied: statsmodels in c:\\users\\siraj p\\appdata\\local\\programs\\python\\python311\\lib\\site-packages (0.14.2)Note: you may need to restart the kernel to use updated packages.\n",
      "\n",
      "Requirement already satisfied: numpy>=1.22.3 in c:\\users\\siraj p\\appdata\\local\\programs\\python\\python311\\lib\\site-packages (from statsmodels) (1.26.3)\n",
      "Requirement already satisfied: scipy!=1.9.2,>=1.8 in c:\\users\\siraj p\\appdata\\local\\programs\\python\\python311\\lib\\site-packages (from statsmodels) (1.13.1)\n",
      "Requirement already satisfied: pandas!=2.1.0,>=1.4 in c:\\users\\siraj p\\appdata\\local\\programs\\python\\python311\\lib\\site-packages (from statsmodels) (2.1.4)\n",
      "Requirement already satisfied: patsy>=0.5.6 in c:\\users\\siraj p\\appdata\\local\\programs\\python\\python311\\lib\\site-packages (from statsmodels) (0.5.6)\n",
      "Requirement already satisfied: packaging>=21.3 in c:\\users\\siraj p\\appdata\\local\\programs\\python\\python311\\lib\\site-packages (from statsmodels) (23.2)\n",
      "Requirement already satisfied: python-dateutil>=2.8.2 in c:\\users\\siraj p\\appdata\\local\\programs\\python\\python311\\lib\\site-packages (from pandas!=2.1.0,>=1.4->statsmodels) (2.8.2)\n",
      "Requirement already satisfied: pytz>=2020.1 in c:\\users\\siraj p\\appdata\\local\\programs\\python\\python311\\lib\\site-packages (from pandas!=2.1.0,>=1.4->statsmodels) (2023.3.post1)\n",
      "Requirement already satisfied: tzdata>=2022.1 in c:\\users\\siraj p\\appdata\\local\\programs\\python\\python311\\lib\\site-packages (from pandas!=2.1.0,>=1.4->statsmodels) (2023.4)\n",
      "Requirement already satisfied: six in c:\\users\\siraj p\\appdata\\local\\programs\\python\\python311\\lib\\site-packages (from patsy>=0.5.6->statsmodels) (1.16.0)\n"
     ]
    },
    {
     "name": "stderr",
     "output_type": "stream",
     "text": [
      "\n",
      "[notice] A new release of pip is available: 23.2.1 -> 24.0\n",
      "[notice] To update, run: python.exe -m pip install --upgrade pip\n"
     ]
    }
   ],
   "source": [
    "pip install statsmodels"
   ]
  },
  {
   "cell_type": "code",
   "execution_count": 3,
   "id": "7e4db6a3-f6a9-4995-8a51-a39581aba05b",
   "metadata": {},
   "outputs": [
    {
     "name": "stdout",
     "output_type": "stream",
     "text": [
      "Requirement already satisfied: scipy in c:\\users\\siraj p\\appdata\\local\\programs\\python\\python311\\lib\\site-packages (1.13.1)\n",
      "Requirement already satisfied: numpy<2.3,>=1.22.4 in c:\\users\\siraj p\\appdata\\local\\programs\\python\\python311\\lib\\site-packages (from scipy) (1.26.3)\n",
      "Note: you may need to restart the kernel to use updated packages.\n"
     ]
    },
    {
     "name": "stderr",
     "output_type": "stream",
     "text": [
      "\n",
      "[notice] A new release of pip is available: 23.2.1 -> 24.0\n",
      "[notice] To update, run: python.exe -m pip install --upgrade pip\n"
     ]
    }
   ],
   "source": [
    "pip install scipy"
   ]
  },
  {
   "cell_type": "code",
   "execution_count": 4,
   "id": "9c230f65-1451-4dea-ac68-61a3a354a9a5",
   "metadata": {},
   "outputs": [],
   "source": [
    "import numpy as np"
   ]
  },
  {
   "cell_type": "markdown",
   "id": "892477b1-62ed-41d5-8949-cf3a53ee30f4",
   "metadata": {},
   "source": [
    "# HYPOTHESIS TESTING"
   ]
  },
  {
   "cell_type": "markdown",
   "id": "5e856170-ff06-4658-85ca-16d64fb3e1e8",
   "metadata": {},
   "source": [
    "#### Hypothesis testing is a fundamental statistical method used to make inferences about population parameters based on sample data. It involves formulating two competing hypotheses: the null hypothesis (H0), which typically states that there is no effect or no difference between groups, and the alternative hypothesis (H1), which asserts the presence of an effect or difference. The process generally entails selecting an appropriate statistical test based on the nature of the data and the research question, calculating a test statistic from the sample data, and determining the probability of obtaining such results under the assumption that the null hypothesis is true, known as the p-value. If the p-value is below a predetermined significance level (usually 0.05), the null hypothesis is rejected in favor of the alternative hypothesis, suggesting evidence for the presence of an effect or difference. Otherwise, if the p-value is above the significance level, the null hypothesis is not rejected. Hypothesis testing provides a systematic framework for drawing conclusions from data, aiding researchers in making informed decisions and drawing valid inferences about the population."
   ]
  },
  {
   "cell_type": "code",
   "execution_count": null,
   "id": "da5117e1-d8cb-49bf-9b1c-698f7a540536",
   "metadata": {},
   "outputs": [],
   "source": []
  },
  {
   "cell_type": "markdown",
   "id": "1cbca761-b697-49af-84dc-aa9425a6aff9",
   "metadata": {},
   "source": [
    "## Case1"
   ]
  },
  {
   "cell_type": "markdown",
   "id": "b64fb42f-acb7-4ba2-bb2c-ea378538dbc1",
   "metadata": {
    "jp-MarkdownHeadingCollapsed": true
   },
   "source": [
    "#### Q1.Suppose a child psychologist claims that the average time working mothers spend talking to their children is at least 11 minutes per day. You conduct a random sample of 1000 working mothers and find they spend an average of 11.5 minutes per day talking with their children. Assume prior research suggests the population standard deviation is 2.3 minutes.Conduct a test with a level of significance of alpha = 0.05.\r\n"
   ]
  },
  {
   "cell_type": "markdown",
   "id": "94ae008a-b04c-4440-9780-e4946184ad20",
   "metadata": {},
   "source": [
    "## Null Hypothesis"
   ]
  },
  {
   "cell_type": "markdown",
   "id": "8d8b1a0e-9964-44f9-b59e-2030c26982fc",
   "metadata": {},
   "source": [
    "#### Ho=μ≤11 minutes"
   ]
  },
  {
   "cell_type": "markdown",
   "id": "107d990f-e878-4e93-a010-e190c61dbc9e",
   "metadata": {},
   "source": [
    "## Alternative Hypothesis"
   ]
  },
  {
   "cell_type": "markdown",
   "id": "8402de53-582e-4ab3-8ee9-625f9e090bce",
   "metadata": {},
   "source": [
    "#### Ha=μ>11 minutes"
   ]
  },
  {
   "cell_type": "markdown",
   "id": "b3a17a74-5d1c-45fe-8c95-6d63359bc471",
   "metadata": {},
   "source": [
    "#### x̄=11.5minutes"
   ]
  },
  {
   "cell_type": "markdown",
   "id": "0f4c7b21-7b64-4eab-a4e8-baba102a3bc8",
   "metadata": {},
   "source": [
    "#### n=1000"
   ]
  },
  {
   "cell_type": "markdown",
   "id": "96ddea5a-029c-4423-86e6-c2f8d29f0e45",
   "metadata": {},
   "source": [
    "#### σ=2.3 minutes"
   ]
  },
  {
   "cell_type": "markdown",
   "id": "3840872b-890a-4853-acba-4ed131873a64",
   "metadata": {},
   "source": [
    "#### α=0.05"
   ]
  },
  {
   "cell_type": "markdown",
   "id": "d40f3aa8-2152-427a-afca-360176ac4a60",
   "metadata": {},
   "source": [
    "### Statistical Test"
   ]
  },
  {
   "cell_type": "code",
   "execution_count": null,
   "id": "663b16b1-0635-4c60-97bc-920660268f47",
   "metadata": {},
   "outputs": [],
   "source": [
    "\n",
    "In this case we have a sampleof 1000 which is greater than 30 and here sample mean,standard deviation is already given,\n",
    "therefore we are going to compare the sample mean to a population value so we are using Z-test .\n",
    "\n",
    "    rejection criteria is z_statistics>critical value,fail to accept Ho\n"
   ]
  },
  {
   "cell_type": "markdown",
   "id": "7eb4d427-2dbb-465e-b206-f741f2779f5d",
   "metadata": {},
   "source": [
    "### Formula for Z test=(x̄ – μ) / (σ / √n)\r\n",
    "\r\n",
    "x̄=sample mean=11.5 minutes μ=population mean=11 minutes σ=population standard deviation=2.3 minutes n=sample size=1000\r\n",
    "\r\n"
   ]
  },
  {
   "cell_type": "code",
   "execution_count": 11,
   "id": "80d75b40-9679-4d91-8b76-f3860f872149",
   "metadata": {},
   "outputs": [],
   "source": [
    "import math"
   ]
  },
  {
   "cell_type": "code",
   "execution_count": 12,
   "id": "179d05f8-b24b-423f-becb-d9e65f8c3d35",
   "metadata": {},
   "outputs": [
    {
     "data": {
      "text/plain": [
       "6.874516652539955"
      ]
     },
     "execution_count": 12,
     "metadata": {},
     "output_type": "execute_result"
    }
   ],
   "source": [
    " Z=(11.5-11)/(2.3/math.sqrt(1000))\n",
    "Z"
   ]
  },
  {
   "cell_type": "markdown",
   "id": "d7e6d971-c26e-49d1-91c5-8acdf6b763b4",
   "metadata": {},
   "source": [
    "### Determine Critical Value or P-Value:\n",
    "\n",
    "Since we are conducting a one tailed test(testing if the average time is more than 11 minutes),we will look up the critical value fora z-score corresponding to an alpha level of 0.05 from z-distirbution table.\n"
   ]
  },
  {
   "cell_type": "markdown",
   "id": "7363d1e6-240a-46d2-b2e2-dd9df2a4875e",
   "metadata": {},
   "source": [
    "##### taking alpha level as  0.05 in this case then the critical value for the one-tailed test is 1.645"
   ]
  },
  {
   "cell_type": "markdown",
   "id": "8c2bf520-2081-4258-be7d-4d9d3854d1bb",
   "metadata": {},
   "source": [
    "### Conclusion for the hypothesis test\n",
    "Here in this case the calculated z-score is 6.88 which is much greater than the critical value 1.645 that means we have to reject the null hypothesis.Thus we concluded that the average time working mothers spend talking to their children is indeed more than 11 minutes per day."
   ]
  },
  {
   "cell_type": "code",
   "execution_count": null,
   "id": "24d2c51e-ce99-44a7-8e41-c8c715c9ded7",
   "metadata": {},
   "outputs": [],
   "source": []
  },
  {
   "cell_type": "markdown",
   "id": "7824f1f4-6d8f-432e-8dd7-2acf5c896e0e",
   "metadata": {},
   "source": [
    "# Case 2"
   ]
  },
  {
   "cell_type": "markdown",
   "id": "4b1c107a-ced1-435a-b979-00e3158ef3ff",
   "metadata": {},
   "source": [
    "#### Q2. A coffee shop claims that their average wait time for customers is less than 5 minutes. To test this claim, a sample of 40 customers is taken, and their wait times are recorded. The sample mean wait time is found to be 4.6 minutes with a standard deviation of 0.8 minutes. Perform a hypothesis test at a significance level of 0.05 and determine whether there is enough evidence to support the coffee shop's claim."
   ]
  },
  {
   "cell_type": "markdown",
   "id": "1921c127-cf18-4447-b050-fcb5a1ffcc5f",
   "metadata": {},
   "source": [
    "## Null Hypothesis"
   ]
  },
  {
   "cell_type": "markdown",
   "id": "f56a4c39-50a3-4fb4-a13a-9102e71d4ada",
   "metadata": {},
   "source": [
    "#### Ho=μ≥5 minutes"
   ]
  },
  {
   "cell_type": "markdown",
   "id": "fcd2f588-76cf-47ac-8b08-73872beee8b5",
   "metadata": {},
   "source": [
    "## Alternative Hypothesis"
   ]
  },
  {
   "cell_type": "markdown",
   "id": "c59381da-9845-4c53-b915-1671b8bf5611",
   "metadata": {},
   "source": [
    "#### Ha=μ<5 minutes"
   ]
  },
  {
   "cell_type": "markdown",
   "id": "9fd4cf03-924b-4f7b-a1f7-74b2db28e6c8",
   "metadata": {},
   "source": [
    "#### x̄=4.6 minutes"
   ]
  },
  {
   "cell_type": "markdown",
   "id": "48ceb8b9-2187-4eab-842c-3e646d9c3be2",
   "metadata": {},
   "source": [
    "#### n=40"
   ]
  },
  {
   "cell_type": "markdown",
   "id": "6aa2645c-d8d7-43ef-bb1a-41cf5d6d9355",
   "metadata": {},
   "source": [
    "#### σ=0.8 minutes"
   ]
  },
  {
   "cell_type": "markdown",
   "id": "e604bbf7-d542-4056-ae43-e7cbd120545f",
   "metadata": {},
   "source": [
    "#### μ=5 minutes"
   ]
  },
  {
   "cell_type": "markdown",
   "id": "004f3c61-7492-4a80-9c9c-0e399e722164",
   "metadata": {},
   "source": [
    "#### α=0.05"
   ]
  },
  {
   "cell_type": "markdown",
   "id": "7130683a-37dc-410c-8cc4-d992178432d0",
   "metadata": {},
   "source": [
    "#### Degree of freedom(n-1)=39"
   ]
  },
  {
   "cell_type": "markdown",
   "id": "98ce7c5b-4e70-491b-b010-5c85cf299e37",
   "metadata": {},
   "source": [
    "### Statistical Test\n",
    "\n"
   ]
  },
  {
   "cell_type": "markdown",
   "id": "0336958f-f959-4fbf-bd80-9cb8bc9a0316",
   "metadata": {},
   "source": [
    "#### Here the population std is unknown therefore we are using T-test for this.\n",
    "\n",
    "If the sample size is small(less than 30) and the population standard deviation is unknown then T-test is applicable.Even for large sample size(greater than 30) the T-test can be used even if the population standard deviation is unknown this is due to Central Limit Theorem which states that the distribution of sample means approaches a normal distribution as the sample size increases."
   ]
  },
  {
   "cell_type": "markdown",
   "id": "57150eca-c057-4d41-a15b-28c64495fe70",
   "metadata": {},
   "source": [
    "### Formula for T-test=(x̄-μ)/(σ/√n)\n",
    "x̄=Sample mean=4.6 minutes\n",
    "μ=Population mean=5 minutes\n",
    "σ=Sample Standard deviation=0.8 minutes\n"
   ]
  },
  {
   "cell_type": "code",
   "execution_count": 16,
   "id": "92e8c036-8ad3-403e-8070-7b19fb8566f9",
   "metadata": {},
   "outputs": [
    {
     "name": "stdout",
     "output_type": "stream",
     "text": [
      "T_statistic: -3.162277660168382\n"
     ]
    }
   ],
   "source": [
    "T_test_static=(4.6-5)/(0.8/np.sqrt(40))\n",
    "print('T_statistic:',T_test_static)"
   ]
  },
  {
   "cell_type": "markdown",
   "id": "5d48e736-08c8-4b4d-9bde-27da4242ac5f",
   "metadata": {},
   "source": [
    "#### Here the function t.ppf(α,df) calculates a critical value from the T-distribution based on given significance level \"α\" and degrees of freedom \"df\"."
   ]
  },
  {
   "cell_type": "markdown",
   "id": "04ef0f5c-7121-49b4-9ff1-c6a222eb7ae4",
   "metadata": {},
   "source": [
    "#### The term \"percent pont function\"ppf gives a value from the distribution in a way that if you randomly select a value from the distribution there will be a probability that it will be less than or equal to that value."
   ]
  },
  {
   "cell_type": "code",
   "execution_count": 17,
   "id": "e7531c91-68e6-40b1-ab2d-2cc510eb2e6e",
   "metadata": {},
   "outputs": [
    {
     "name": "stdout",
     "output_type": "stream",
     "text": [
      "Critical value: -1.684875121711225\n"
     ]
    }
   ],
   "source": [
    "#Finding critical value with df 39 and alpha 0.05\n",
    "from scipy.stats import t\n",
    "critical_value=t.ppf(0.05,39)\n",
    "print(\"Critical value:\",critical_value)"
   ]
  },
  {
   "cell_type": "markdown",
   "id": "0054ede5-d612-42a4-beb3-cefff56a3b28",
   "metadata": {},
   "source": [
    "### Conclusion for the hypothesis test¶\n",
    "\n",
    "Here in this case the calculated T-value is (-3.16) which is less than critical value (-1.685) from T distribution.Therefore we fail to accept the null hypothesis.\n",
    "Thus we came into a conclusion that there is no relevant evidence that says the average waiting time for customers is less than 5 minutes "
   ]
  },
  {
   "cell_type": "code",
   "execution_count": null,
   "id": "5db93044-7ef3-4673-9629-f7e6c413c8a3",
   "metadata": {},
   "outputs": [],
   "source": []
  }
 ],
 "metadata": {
  "kernelspec": {
   "display_name": "Python 3 (ipykernel)",
   "language": "python",
   "name": "python3"
  },
  "language_info": {
   "codemirror_mode": {
    "name": "ipython",
    "version": 3
   },
   "file_extension": ".py",
   "mimetype": "text/x-python",
   "name": "python",
   "nbconvert_exporter": "python",
   "pygments_lexer": "ipython3",
   "version": "3.11.5"
  }
 },
 "nbformat": 4,
 "nbformat_minor": 5
}
